{
  "nbformat": 4,
  "nbformat_minor": 0,
  "metadata": {
    "kernelspec": {
      "display_name": "Python 3",
      "language": "python",
      "name": "python3"
    },
    "language_info": {
      "codemirror_mode": {
        "name": "ipython",
        "version": 3
      },
      "file_extension": ".py",
      "mimetype": "text/x-python",
      "name": "python",
      "nbconvert_exporter": "python",
      "pygments_lexer": "ipython3",
      "version": "3.7.6"
    },
    "colab": {
      "name": "end_sem_EE527_194161006.ipynb",
      "provenance": [],
      "collapsed_sections": []
    }
  },
  "cells": [
    {
      "cell_type": "code",
      "metadata": {
        "id": "uqA7MjWqJqea",
        "colab_type": "code",
        "colab": {}
      },
      "source": [
        "import cv2\n",
        "import numpy as np\n",
        "import matplotlib.pyplot as plt"
      ],
      "execution_count": 2,
      "outputs": []
    },
    {
      "cell_type": "code",
      "metadata": {
        "id": "rBYeJfO2Ofzd",
        "colab_type": "code",
        "colab": {
          "base_uri": "https://localhost:8080/",
          "height": 122
        },
        "outputId": "3cab8ed4-bb1a-4b4b-e8f0-5d6a4e59d058"
      },
      "source": [
        "from google.colab import drive\n",
        "drive.mount('/content/drive')"
      ],
      "execution_count": 3,
      "outputs": [
        {
          "output_type": "stream",
          "text": [
            "Go to this URL in a browser: https://accounts.google.com/o/oauth2/auth?client_id=947318989803-6bn6qk8qdgf4n4g3pfee6491hc0brc4i.apps.googleusercontent.com&redirect_uri=urn%3aietf%3awg%3aoauth%3a2.0%3aoob&response_type=code&scope=email%20https%3a%2f%2fwww.googleapis.com%2fauth%2fdocs.test%20https%3a%2f%2fwww.googleapis.com%2fauth%2fdrive%20https%3a%2f%2fwww.googleapis.com%2fauth%2fdrive.photos.readonly%20https%3a%2f%2fwww.googleapis.com%2fauth%2fpeopleapi.readonly\n",
            "\n",
            "Enter your authorization code:\n",
            "··········\n",
            "Mounted at /content/drive\n"
          ],
          "name": "stdout"
        }
      ]
    },
    {
      "cell_type": "code",
      "metadata": {
        "id": "ns7nfGjXJqhf",
        "colab_type": "code",
        "colab": {
          "base_uri": "https://localhost:8080/",
          "height": 34
        },
        "outputId": "fc9079d3-db10-4c78-e9d3-fe7b3deda637"
      },
      "source": [
        "import os\n",
        "from google.colab.patches import cv2_imshow\n",
        "#----------------input image read----------------------\n",
        "path='/content/drive/My Drive/Images_ml'\n",
        "files=[]\n",
        "for r,d,f in os.walk(path):\n",
        "  for file in sorted(f):\n",
        "    if '(1).bmp' not in file:\n",
        "      files.append((os.path.join(r,file)))\n",
        "\n",
        "image0=cv2.imread(files[0])\n",
        "#------------------output image read--------------------\n",
        "path_op='/content/drive/My Drive/BakSubGroundTruth-20200608T150042Z-001/BakSubGroundTruth'\n",
        "files_op=[]\n",
        "for r,d,f in os.walk(path_op):\n",
        "  for file in sorted(f):\n",
        "    if '(1).bmp' not in file:\n",
        "      files_op.append((os.path.join(r,file)))\n",
        "print(len(files_op),len(files))"
      ],
      "execution_count": 4,
      "outputs": [
        {
          "output_type": "stream",
          "text": [
            "501 501\n"
          ],
          "name": "stdout"
        }
      ]
    },
    {
      "cell_type": "code",
      "metadata": {
        "id": "Co8k3Ts6DZUR",
        "colab_type": "code",
        "colab": {
          "base_uri": "https://localhost:8080/",
          "height": 561
        },
        "outputId": "69c6d135-a6e7-44b2-a245-e7a53e11c425"
      },
      "source": [
        "from sklearn.metrics import confusion_matrix\n",
        "#-------------------------functions-------------------------\n",
        "def kronecker_delta(val):\n",
        "  if val==0:\n",
        "    result=1\n",
        "  else:\n",
        "    result=0\n",
        "  return result\n",
        "\n",
        "def fm(a):\n",
        "  b=np.zeros((a.shape[0],2))\n",
        "  result = np.column_stack((b,a))\n",
        "  result = np.column_stack((result,b))\n",
        "\n",
        "  row=np.zeros((2,a.shape[1]+4))\n",
        "  result1 = np.vstack((result,row))\n",
        "  results=np.vstack((row,result1))\n",
        "  countM=np.zeros(a.shape)\n",
        "  for row in range(0,results.shape[0]-4):\n",
        "    for col in range(0,results.shape[1]-4):\n",
        "      window=results[row:row+5,col:col+5]\n",
        "      count=np.count_nonzero(window == 255)\n",
        "      countM[row,col]=count\n",
        "  return countM\n",
        "\n",
        "def alpha(t):\n",
        "  if t>100:\n",
        "    ret= .01\n",
        "  else:\n",
        "    ret=(1/(t+1))\n",
        "  return ret\n",
        "\n",
        "\n",
        "\n",
        "list=[.5, 1, 2, 3, 4, 5, 6, 7]\n",
        "tpr=np.zeros(8)\n",
        "fpr=np.zeros(8)\n",
        "j=0\n",
        "for lamda in list:\n",
        "  \n",
        "  pred_matrix=np.zeros((288*360,500))\n",
        "  test_matrix=np.zeros((288*360,500))\n",
        "  image0=cv2.imread(files[0])\n",
        "  vold=np.ones(image0.shape)\n",
        "  vnew=np.zeros(image0.shape)\n",
        "  vold=vold*9\n",
        "\n",
        "  Mold=np.zeros(image0.shape)\n",
        "  Mold=image0\n",
        "  Mnew=np.zeros(image0.shape)\n",
        "  for i in range(1,501):\n",
        "\n",
        "    image1=cv2.imread(files[i])\n",
        "    I=image1\n",
        "    D=np.zeros(image0.shape)\n",
        "    D=I-Mold\n",
        "    Dsq=D**2\n",
        "    #-------lamda-----------\n",
        "\n",
        "    c=np.zeros((image0.shape[0],image0.shape[1]))\n",
        "    vc=np.zeros((image0.shape[0],image0.shape[1]))\n",
        "\n",
        "    #--------foreground detection----------------\n",
        "\n",
        "    for row in range(image0.shape[0]):\n",
        "      for col in range(image0.shape[1]):\n",
        "        if Dsq[row,col,0]<=(lamda**2)*vold[row,col,0] and Dsq[row,col,1]<=(lamda**2)*vold[row,col,1] and Dsq[row,col,2]<=(lamda**2)*vold[row,col,2]:\n",
        "          c[row,col]=0\n",
        "        else:\n",
        "          c[row,col]=255\n",
        "    countM=fm(c)    \n",
        "    for row in range(image0.shape[0]):\n",
        "      for col in range(image0.shape[1]):\n",
        "\n",
        "        \n",
        "        #-----------noise removal--------------\n",
        "        m=5\n",
        "        nv=.6\n",
        "        if countM[row,col]/(m*m)>=nv:\n",
        "          vc[row,col]=255\n",
        "        else:\n",
        "          vc[row,col]=0\n",
        "\n",
        "        #------------model update---------------\n",
        "        alpha_t=alpha(i)\n",
        "        \n",
        "        Mnew[row,col,:]=Mold[row,col,:]+kronecker_delta(vc[row,col])*alpha_t*D[row,col,:]\n",
        "        \n",
        "        vnew[row,col,:]= kronecker_delta(vc[row,col]-255)*(vold[row,col,:]) + kronecker_delta(vc[row,col])*((1-alpha_t)*(vold[row,col,:]+alpha_t*Dsq[row,col,:]))\n",
        "    vold=vnew\n",
        "    Mold=Mnew\n",
        "    #cv2_imshow(vnew)\n",
        "    vc_flat=vc.flatten()\n",
        "    pred_matrix[:,i-1]=vc_flat\n",
        "\n",
        "    op_image=cv2.imread(files_op[i])\n",
        "    gray = cv2.cvtColor(op_image, cv2.COLOR_BGR2GRAY)\n",
        "    gray_flat=gray.flatten()\n",
        "    test_matrix[:,i-1]=gray_flat\n",
        "  test_flat=test_matrix.flatten()\n",
        "  pred_flat=pred_matrix.flatten()\n",
        "  test=test_flat/255\n",
        "  pred=pred_flat/255\n",
        "  print(\"-----------------------------------------------------\")\n",
        "  print(\"value of lamda: \",lamda)\n",
        "  mat=confusion_matrix(test,pred,labels=[0,1])\n",
        "  tpr[j]=mat[1,1]/(mat[1,1]+mat[1,0])\n",
        "  fpr[j]=mat[0,1]/(mat[0,1]+mat[0,0])\n",
        "  print(\"sensitivity:  \",tpr[j],\"\\n\",\"false positive rate:  \",fpr[j])\n",
        "  j=j+1"
      ],
      "execution_count": 11,
      "outputs": [
        {
          "output_type": "stream",
          "text": [
            "-----------------------------------------------------\n",
            "value of lamda:  0.5\n",
            "sensitivity:   0.9971681657908606 \n",
            " false positive rate:   0.9636855183910698\n",
            "-----------------------------------------------------\n",
            "value of lamda:  1\n",
            "sensitivity:   0.9912425273491853 \n",
            " false positive rate:   0.41159919806449397\n",
            "-----------------------------------------------------\n",
            "value of lamda:  2\n",
            "sensitivity:   0.8530577502772957 \n",
            " false positive rate:   0.008410418141566811\n",
            "-----------------------------------------------------\n",
            "value of lamda:  3\n",
            "sensitivity:   0.7088260523454917 \n",
            " false positive rate:   0.002907233063288131\n",
            "-----------------------------------------------------\n",
            "value of lamda:  4\n",
            "sensitivity:   0.38235010044389367 \n",
            " false positive rate:   0.0011178965623424974\n",
            "-----------------------------------------------------\n",
            "value of lamda:  5\n",
            "sensitivity:   0.09005373913695432 \n",
            " false positive rate:   0.0005472583474347151\n",
            "-----------------------------------------------------\n",
            "value of lamda:  6\n",
            "sensitivity:   0.02519807624033324 \n",
            " false positive rate:   0.00043205349571885177\n",
            "-----------------------------------------------------\n",
            "value of lamda:  7\n",
            "sensitivity:   0.010930853585659567 \n",
            " false positive rate:   0.0004023193070602661\n"
          ],
          "name": "stdout"
        }
      ]
    },
    {
      "cell_type": "code",
      "metadata": {
        "id": "lHciPw_aunbD",
        "colab_type": "code",
        "colab": {
          "base_uri": "https://localhost:8080/",
          "height": 136
        },
        "outputId": "dff5bb93-4734-469f-f17a-245a708f8d0a"
      },
      "source": [
        "print(\"values of sensitivity and false positive rates for all lamdas:\")\n",
        "print(\"sensitivity: \\n\",tpr,\"\\n\",\"false positive rate: \\n\",fpr)"
      ],
      "execution_count": 25,
      "outputs": [
        {
          "output_type": "stream",
          "text": [
            "values of sensitivity and false positive rates for all lamdas:\n",
            "sensitivity: \n",
            " [0.99716817 0.99124253 0.85305775 0.70882605 0.3823501  0.09005374\n",
            " 0.02519808 0.01093085] \n",
            " false positive rate: \n",
            " [9.63685518e-01 4.11599198e-01 8.41041814e-03 2.90723306e-03\n",
            " 1.11789656e-03 5.47258347e-04 4.32053496e-04 4.02319307e-04]\n"
          ],
          "name": "stdout"
        }
      ]
    },
    {
      "cell_type": "code",
      "metadata": {
        "id": "gaR1mVMtbYgi",
        "colab_type": "code",
        "colab": {
          "base_uri": "https://localhost:8080/",
          "height": 295
        },
        "outputId": "6ee943fe-3486-4317-c9d7-438053c6f516"
      },
      "source": [
        "plt.plot(fpr,tpr,\"-o\")\n",
        "plt.title(\"Roc curve\")\n",
        "plt.xlabel(\"False postive rate\")\n",
        "plt.ylabel(\"Sensitivity\")\n",
        "plt.grid()\n",
        "plt.show()"
      ],
      "execution_count": 26,
      "outputs": [
        {
          "output_type": "display_data",
          "data": {
            "image/png": "[encoded data removed]",
            "text/plain": [
              "<Figure size 432x288 with 1 Axes>"
            ]
          },
          "metadata": {
            "tags": [],
            "needs_background": "light"
          }
        }
      ]
    }
  ]
}